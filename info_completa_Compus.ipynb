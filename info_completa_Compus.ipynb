{
  "nbformat": 4,
  "nbformat_minor": 0,
  "metadata": {
    "colab": {
      "provenance": [],
      "include_colab_link": true
    },
    "kernelspec": {
      "name": "python3",
      "display_name": "Python 3"
    },
    "language_info": {
      "name": "python"
    }
  },
  "cells": [
    {
      "cell_type": "markdown",
      "metadata": {
        "id": "view-in-github",
        "colab_type": "text"
      },
      "source": [
        "<a href=\"https://colab.research.google.com/github/alexanderDz/Web-Scraping-ML/blob/main/info_completa_Compus.ipynb\" target=\"_parent\"><img src=\"https://colab.research.google.com/assets/colab-badge.svg\" alt=\"Open In Colab\"/></a>"
      ]
    },
    {
      "cell_type": "markdown",
      "source": [
        "Aqui voy a sacar las siguientes variables para determinar como poder trabajar con ellas:\n",
        "**Nombre**\n",
        "\n",
        "**Precio**\n",
        "\n",
        "**Rating**\n",
        "\n",
        "**Numero de reviews**\n",
        "\n",
        "**Comentarios**\n",
        "\n",
        "**Cantidad de ventas (aprox) en 60 dias**\n",
        "\n",
        "**Ubicacion**\n",
        "\n"
      ],
      "metadata": {
        "id": "QKQz26CrGQqf"
      }
    },
    {
      "cell_type": "code",
      "execution_count": null,
      "metadata": {
        "colab": {
          "base_uri": "https://localhost:8080/"
        },
        "id": "L_Omn9JpGsjZ",
        "outputId": "1cd5901a-d945-4baf-9443-6809532a591d"
      },
      "outputs": [
        {
          "output_type": "stream",
          "name": "stdout",
          "text": [
            "Looking in indexes: https://pypi.org/simple, https://us-python.pkg.dev/colab-wheels/public/simple/\n",
            "Requirement already satisfied: beautifulsoup4 in /usr/local/lib/python3.8/dist-packages (4.6.3)\n",
            "Looking in indexes: https://pypi.org/simple, https://us-python.pkg.dev/colab-wheels/public/simple/\n",
            "Requirement already satisfied: pandas in /usr/local/lib/python3.8/dist-packages (1.3.5)\n",
            "Requirement already satisfied: numpy>=1.17.3 in /usr/local/lib/python3.8/dist-packages (from pandas) (1.22.4)\n",
            "Requirement already satisfied: pytz>=2017.3 in /usr/local/lib/python3.8/dist-packages (from pandas) (2022.7.1)\n",
            "Requirement already satisfied: python-dateutil>=2.7.3 in /usr/local/lib/python3.8/dist-packages (from pandas) (2.8.2)\n",
            "Requirement already satisfied: six>=1.5 in /usr/local/lib/python3.8/dist-packages (from python-dateutil>=2.7.3->pandas) (1.15.0)\n"
          ]
        }
      ],
      "source": [
        "#Instalacion de librerias\n",
        "!pip install beautifulsoup4 \n",
        "!pip install pandas"
      ]
    },
    {
      "cell_type": "code",
      "source": [
        "#%% librerias\n",
        "from bs4 import BeautifulSoup\n",
        "import requests\n",
        "import pandas as pd\n",
        "import re"
      ],
      "metadata": {
        "id": "am2ExOv-HFJO"
      },
      "execution_count": null,
      "outputs": []
    },
    {
      "cell_type": "code",
      "source": [
        "#%%\n",
        "def recorre_paginas(n):\n",
        "    \n",
        "    if n == 1:\n",
        "        url = 'https://listado.mercadolibre.com.co/computacion/portatiles-accesorios/portatiles/portatiles_NoIndex_True'\n",
        "    elif n > 1:\n",
        "        x = str(5*(n - 1)) + '1'\n",
        "        url = f'https://listado.mercadolibre.com.co/computacion/portatiles-accesorios/portatiles/portatiles_Desde_{x}_NoIndex_True'\n",
        "        \n",
        "    return url"
      ],
      "metadata": {
        "id": "gwGbgpRBHHkF"
      },
      "execution_count": null,
      "outputs": []
    },
    {
      "cell_type": "code",
      "source": [
        "#%%\n",
        "def solicitud(url):\n",
        "    pagina = requests.get(url)\n",
        "    pagina.status_code\n",
        "    return BeautifulSoup(pagina.content,'html.parser')\n",
        "\n",
        "#%%"
      ],
      "metadata": {
        "id": "Y4IiF-OdHKVN"
      },
      "execution_count": null,
      "outputs": []
    },
    {
      "cell_type": "code",
      "source": [
        "#%%\n",
        "def extraer_info(url):\n",
        "    soup = solicitud(url)#5\n",
        "    \n",
        "    if soup.find('h1',class_='ui-pdp-title') is not None:\n",
        "        titulo = soup.find('h1',class_='ui-pdp-title').get_text()\n",
        "    else:\n",
        "        titulo = \"\"\n",
        "    \n",
        "    if soup.find('span',class_='andes-money-amount__fraction') is not None:    \n",
        "        precio = soup.find('span',class_='andes-money-amount__fraction').get_text()\n",
        "    else:\n",
        "        precio = 0\n",
        "    \n",
        "    if soup.find('p',class_='ui-review-capability__rating__average ui-review-capability__rating__average--desktop') is not None:\n",
        "        rating = soup.find('p',class_='ui-review-capability__rating__average ui-review-capability__rating__average--desktop').get_text()\n",
        "    else:\n",
        "        rating = 0\n",
        "\n",
        "    if soup.find('strong',class_='ui-pdp-seller__sales-description') is not None:\n",
        "        ventas_60 = soup.find('strong',class_='ui-pdp-seller__sales-description').get_text()\n",
        "    else:\n",
        "        ventas_60 = 0    \n",
        "\n",
        "    ########\n",
        "    if soup.find('a',class_='ui-pdp-media__action ui-box-component__action') is not None:\n",
        "        link_info_vendedor = soup.find('a',class_='ui-pdp-media__action ui-box-component__action').get('href')\n",
        "        soup2 = solicitud(link_info_vendedor)\n",
        "\n",
        "        if soup2.find('p',class_='location-subtitle') is not None:\n",
        "          ubicacion = soup2.find('p',class_='location-subtitle').get_text()\n",
        "        else:\n",
        "          ubicacion = \"\"\n",
        "    else:\n",
        "      ubicacion = \"\"\n",
        "        \n",
        "    return titulo, precio, rating, ubicacion, ventas_60"
      ],
      "metadata": {
        "id": "JLw_01SMHMNF"
      },
      "execution_count": null,
      "outputs": []
    },
    {
      "cell_type": "code",
      "source": [
        "#%%\n",
        "def extrae_pag(links):\n",
        "    titulo, precio, rating, ubicacion, ventas_60 = [],[],[],[],[]\n",
        "    for i in range(0,50):\n",
        "      try:\n",
        "          a, b, c, d, e  = extraer_info(links[i])\n",
        "      except Exception as e:\n",
        "        print(f\"Error al extraer información del enlace {links[i]}: {str(e)}\")\n",
        "        continue\n",
        "      titulo.append(a), precio.append(b), rating.append(c), ubicacion.append(d), ventas_60.append(e)\n",
        "    return {'Titulo':titulo, 'Precio':precio, 'Rating':rating, 'Ubicacion':ubicacion, 'Ventas 60 dias':ventas_60}  "
      ],
      "metadata": {
        "id": "B3OWbRQuHOmV"
      },
      "execution_count": null,
      "outputs": []
    },
    {
      "cell_type": "code",
      "source": [
        "#%%\n",
        "def paginas(n):\n",
        "    box = solicitud(recorre_paginas(n)).find_all('a', class_='ui-search-item__group__element shops__items-group-details ui-search-link', limit = 50)    \n",
        "    links = [i.get('href') for i in box]\n",
        "    datos = extrae_pag(links)\n",
        "    return pd.DataFrame(datos)\n"
      ],
      "metadata": {
        "id": "gJrH9bjXHQS1"
      },
      "execution_count": null,
      "outputs": []
    },
    {
      "cell_type": "code",
      "source": [
        "dfs = []\n",
        "for n in range (1,11):\n",
        "  try:  \n",
        "        df_parcial = paginas(n)      \n",
        "        dfs.append(df_parcial)\n",
        "  except:\n",
        "        print(f\"Error en la iteración {n}\")\n",
        "df = pd.concat(dfs,ignore_index=True)\n",
        "#print(df)\n",
        "#df = pd.concat([paginas(n) for n in range (1,2)],ignore_index=True)\n"
      ],
      "metadata": {
        "colab": {
          "base_uri": "https://localhost:8080/"
        },
        "id": "w4maQrWtEyPV",
        "outputId": "7e11b92e-b866-486b-9b45-142a720e5cb2"
      },
      "execution_count": null,
      "outputs": [
        {
          "output_type": "stream",
          "name": "stdout",
          "text": [
            "Error en la iteración 4\n"
          ]
        }
      ]
    },
    {
      "cell_type": "code",
      "source": [
        "print(df)"
      ],
      "metadata": {
        "colab": {
          "base_uri": "https://localhost:8080/"
        },
        "id": "R5mEll21KO41",
        "outputId": "e1764841-4f6a-4446-ace6-61c50652b4b4"
      },
      "execution_count": null,
      "outputs": [
        {
          "output_type": "stream",
          "name": "stdout",
          "text": [
            "                                                Titulo     Precio Rating  \\\n",
            "0    Laptop HP 240 G7 gris 14\", Intel Celeron N4020...  1.180.000    4.7   \n",
            "1    Laptop Asus M515DA gris 15.6\", AMD Ryzen 5 350...  2.473.572    4.7   \n",
            "2    Laptop gamer Asus TUF Gaming FX506LH negra 15....  3.545.534    5.0   \n",
            "3    Laptop Dell Inspiron 3505 gris 15.6\", AMD Ryze...  2.036.000    4.6   \n",
            "4    Laptop Asus Vivobook Pro 15 OLED quiet blue 15...  2.489.999    4.8   \n",
            "..                                                 ...        ...    ...   \n",
            "445  Asus Tuf Gaming F15 (2022) I7 12700h 14c 16gb ...  8.590.000      0   \n",
            "446  Msi Gf65 Thin I5 10500h Rtx 3060 512gb 144hz P...  5.690.000    5.0   \n",
            "447  Portatil Gamer Aorus 15 I7 12700h Rtx 3070 Ti ...  8.990.000      0   \n",
            "448  Lenovo Legión 5 Pro 16  165hz Ryzen 7 5800h Rt...  6.890.000      0   \n",
            "449  Portatil Gamer Msi Gl 66 I7 11800h Rtx 3070 16...  7.690.000      0   \n",
            "\n",
            "                   Ubicacion Ventas 60 dias  \n",
            "0    Chapinero, Bogotá D.C..           +100  \n",
            "1    Chapinero, Bogotá D.C..           +100  \n",
            "2         Suba, Bogotá D.C..           +100  \n",
            "3    Chapinero, Bogotá D.C..            +50  \n",
            "4    Chapinero, Bogotá D.C..           +100  \n",
            "..                       ...            ...  \n",
            "445    Kennedy, Bogotá D.C..           +100  \n",
            "446    Kennedy, Bogotá D.C..           +100  \n",
            "447    Kennedy, Bogotá D.C..           +100  \n",
            "448    Kennedy, Bogotá D.C..           +100  \n",
            "449    Kennedy, Bogotá D.C..           +100  \n",
            "\n",
            "[450 rows x 5 columns]\n"
          ]
        }
      ]
    },
    {
      "cell_type": "code",
      "source": [
        "df.to_csv('datos_portatiles_1.csv', index=False)\n",
        "\n",
        "# Descargar archivo CSV a la computadora local\n",
        "from google.colab import files\n",
        "files.download('datos_portatiles_1.csv')"
      ],
      "metadata": {
        "colab": {
          "base_uri": "https://localhost:8080/",
          "height": 17
        },
        "id": "MOoh3gzpZDo5",
        "outputId": "c2175e4c-dcbf-41b9-9280-a8b8253f0196"
      },
      "execution_count": null,
      "outputs": [
        {
          "output_type": "display_data",
          "data": {
            "text/plain": [
              "<IPython.core.display.Javascript object>"
            ],
            "application/javascript": [
              "\n",
              "    async function download(id, filename, size) {\n",
              "      if (!google.colab.kernel.accessAllowed) {\n",
              "        return;\n",
              "      }\n",
              "      const div = document.createElement('div');\n",
              "      const label = document.createElement('label');\n",
              "      label.textContent = `Downloading \"${filename}\": `;\n",
              "      div.appendChild(label);\n",
              "      const progress = document.createElement('progress');\n",
              "      progress.max = size;\n",
              "      div.appendChild(progress);\n",
              "      document.body.appendChild(div);\n",
              "\n",
              "      const buffers = [];\n",
              "      let downloaded = 0;\n",
              "\n",
              "      const channel = await google.colab.kernel.comms.open(id);\n",
              "      // Send a message to notify the kernel that we're ready.\n",
              "      channel.send({})\n",
              "\n",
              "      for await (const message of channel.messages) {\n",
              "        // Send a message to notify the kernel that we're ready.\n",
              "        channel.send({})\n",
              "        if (message.buffers) {\n",
              "          for (const buffer of message.buffers) {\n",
              "            buffers.push(buffer);\n",
              "            downloaded += buffer.byteLength;\n",
              "            progress.value = downloaded;\n",
              "          }\n",
              "        }\n",
              "      }\n",
              "      const blob = new Blob(buffers, {type: 'application/binary'});\n",
              "      const a = document.createElement('a');\n",
              "      a.href = window.URL.createObjectURL(blob);\n",
              "      a.download = filename;\n",
              "      div.appendChild(a);\n",
              "      a.click();\n",
              "      div.remove();\n",
              "    }\n",
              "  "
            ]
          },
          "metadata": {}
        },
        {
          "output_type": "display_data",
          "data": {
            "text/plain": [
              "<IPython.core.display.Javascript object>"
            ],
            "application/javascript": [
              "download(\"download_3cab4d68-c216-43d2-ae84-900ef5df28ba\", \"datos_portatiles_1.csv\", 53198)"
            ]
          },
          "metadata": {}
        }
      ]
    },
    {
      "cell_type": "code",
      "source": [
        "df.to_excel(\"datos_portatiles.xlsx\", index=False)\n",
        "files.download(\"datos_portatiles.xlsx\")"
      ],
      "metadata": {
        "colab": {
          "base_uri": "https://localhost:8080/",
          "height": 17
        },
        "id": "E-IqTihSA-Kb",
        "outputId": "be7e1374-19a3-4f7f-bd27-41485d80783a"
      },
      "execution_count": null,
      "outputs": [
        {
          "output_type": "display_data",
          "data": {
            "text/plain": [
              "<IPython.core.display.Javascript object>"
            ],
            "application/javascript": [
              "\n",
              "    async function download(id, filename, size) {\n",
              "      if (!google.colab.kernel.accessAllowed) {\n",
              "        return;\n",
              "      }\n",
              "      const div = document.createElement('div');\n",
              "      const label = document.createElement('label');\n",
              "      label.textContent = `Downloading \"${filename}\": `;\n",
              "      div.appendChild(label);\n",
              "      const progress = document.createElement('progress');\n",
              "      progress.max = size;\n",
              "      div.appendChild(progress);\n",
              "      document.body.appendChild(div);\n",
              "\n",
              "      const buffers = [];\n",
              "      let downloaded = 0;\n",
              "\n",
              "      const channel = await google.colab.kernel.comms.open(id);\n",
              "      // Send a message to notify the kernel that we're ready.\n",
              "      channel.send({})\n",
              "\n",
              "      for await (const message of channel.messages) {\n",
              "        // Send a message to notify the kernel that we're ready.\n",
              "        channel.send({})\n",
              "        if (message.buffers) {\n",
              "          for (const buffer of message.buffers) {\n",
              "            buffers.push(buffer);\n",
              "            downloaded += buffer.byteLength;\n",
              "            progress.value = downloaded;\n",
              "          }\n",
              "        }\n",
              "      }\n",
              "      const blob = new Blob(buffers, {type: 'application/binary'});\n",
              "      const a = document.createElement('a');\n",
              "      a.href = window.URL.createObjectURL(blob);\n",
              "      a.download = filename;\n",
              "      div.appendChild(a);\n",
              "      a.click();\n",
              "      div.remove();\n",
              "    }\n",
              "  "
            ]
          },
          "metadata": {}
        },
        {
          "output_type": "display_data",
          "data": {
            "text/plain": [
              "<IPython.core.display.Javascript object>"
            ],
            "application/javascript": [
              "download(\"download_18f62d0d-726b-4aed-9547-07251ba03c8e\", \"datos_portatiles.xlsx\", 96122)"
            ]
          },
          "metadata": {}
        }
      ]
    }
  ]
}